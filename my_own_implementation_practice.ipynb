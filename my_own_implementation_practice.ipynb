{
 "cells": [
  {
   "cell_type": "markdown",
   "metadata": {},
   "source": [
    "### cross_val_score()"
   ]
  },
  {
   "cell_type": "code",
   "execution_count": 1,
   "metadata": {},
   "outputs": [],
   "source": [
    "from sklearn.model_selection import cross_val_score"
   ]
  },
  {
   "cell_type": "code",
   "execution_count": 3,
   "metadata": {},
   "outputs": [],
   "source": [
    "def cross_val_score_scratch(base_estimator, cv, X, y, scoring='accuracy'):\n",
    "    from sklearn.model_selection import StratifiedGroupKFold\n",
    "    from sklearn.base import clone \n",
    "\n",
    "    skfolds = StratifiedGroupKFold (n_splits=cv, random_state=42)\n",
    "    for train_index, test_index in skfolds.split(X, y):\n",
    "        cloned_estimator = clone(base_estimator)\n",
    "\n",
    "        X_train_folds = X[train_index]\n",
    "        y_train_folds = y[train_index]\n",
    "\n",
    "        X_test_folds = X[test_index]\n",
    "        y_test_folds = y[test_index]\n",
    "\n",
    "        cloned_estimator.fit(X_train_folds, y_train_folds)\n",
    "        \n",
    "        y_pred = cloned_estimator.predict(X_test_folds)\n",
    "        n_correct = sum(y_pred == y_test_folds)\n",
    "        return (n_correct / y_pred)"
   ]
  }
 ],
 "metadata": {
  "kernelspec": {
   "display_name": "ml_learn",
   "language": "python",
   "name": "python3"
  },
  "language_info": {
   "codemirror_mode": {
    "name": "ipython",
    "version": 3
   },
   "file_extension": ".py",
   "mimetype": "text/x-python",
   "name": "python",
   "nbconvert_exporter": "python",
   "pygments_lexer": "ipython3",
   "version": "3.12.1"
  }
 },
 "nbformat": 4,
 "nbformat_minor": 2
}
