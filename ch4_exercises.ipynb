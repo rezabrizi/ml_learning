{
 "cells": [
  {
   "cell_type": "markdown",
   "metadata": {},
   "source": [
    "1. Which linear regression training algorithm can you use if you have a training set with millions of features?\n",
    "- Any gradient descent algorithm\n",
    "2. Suppose the features in your training set have very different scales. Which algorithm might suffer from this, and how? what can you about it? \n",
    "- The cost function will have the shape of an elongated bowl so the gradient descnet algorithms will take a long time to converge. Normal equations or SVD will work just fine without scaling. Regularized models may converge to a suboptimal solution if the features are not scaled, since regularization penalizes large weights, features with smaller values will tend to be ignored compared to features with larger values.\n",
    "3. Can Gradient Descent get stuck in a local minimum when training a Logistic Regression model?\n",
    "- No the cost function is convex. \n",
    "4. Do all gradient descent algorithms lead to the sae model, provided them run they run long enough? \n",
    "- No. They get pretty close but the batch and mini-batch gradient descnet algorithms never fully converge. \n",
    "5. Suppose you use Batch Gradient Descne and you plot the validation error at every epoch. If you notice that that the validation error consistently goes up, what is likely going on? How can you fix this? \n",
    "- The model is overfitting \n",
    "6. Is it a good idea to stop mini-batch gradient descent immediately when the validation error goes up? \n",
    "- Yes early stopping is an approach to avoid overfitting. \n",
    "7. Which gradient descent aglorithm will reach the vicinity of the optimal solution the faster? Which will converge? How can you make the others converge as well? \n",
    "- Batch Gradient Descent \n",
    "- Gradient Descent \n",
    "- Use a dyanmic learning rate using stimulated annealing\n",
    "8. Suppose you are using polynomial regression. You plot the learning curves and you notice that there is a large gap between the training error and the validation error. What is happening? What are three ways to solve this? \n",
    "- Overfitting\n",
    "- Early stopping, constraint the model, more training examples\n",
    "9. Suppose you are using Ridge regression and you notice that the training error and the validation error are almost equal and faily high. Would you say that the model suffers from high bias or high variance? Should you increase the regularization hyperparameter alpha or reduce it? \n",
    "- reduce it. The model has high bias.\n",
    "10. Why would you want to use Ridge Regression instead of plain Linear Regression? Lasso instead of Ridge? Elastic Net instead of Lasso? \n",
    "- Ridge allows for regularization so it penalizes more complex models \n",
    "- Lasso really allows the model to disregard unsual samples. So good for when the model has a few outliers.\n",
    "- Balance between l1 and l2 regularization. \n",
    "11. Suppose you want to classify pictures as outdoor/indoor and daytime/nighttime. Should you implement two Logistic Regression classifiers or one Softmax Regression Classifier? \n",
    "- 2 Classifiers since the events are not mutually exclusive. This is a multioutput label. "
   ]
  },
  {
   "cell_type": "markdown",
   "metadata": {},
   "source": [
    "Implement Batch Gradient Descent with early stopping for Softmax Regression."
   ]
  },
  {
   "cell_type": "markdown",
   "metadata": {},
   "source": []
  }
 ],
 "metadata": {
  "language_info": {
   "name": "python"
  }
 },
 "nbformat": 4,
 "nbformat_minor": 2
}
